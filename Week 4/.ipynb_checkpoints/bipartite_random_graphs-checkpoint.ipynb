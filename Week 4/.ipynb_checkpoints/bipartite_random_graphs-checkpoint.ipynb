{
 "cells": [
  {
   "cell_type": "code",
   "execution_count": 1,
   "metadata": {},
   "outputs": [],
   "source": [
    "class Graph():\n",
    "    def __init__(self, V):\n",
    "        self.V = V\n",
    "        self.graph = None\n",
    "        self.color_array = [-1 for i in range(self.V)] \n",
    "          \n",
    "    def is_bipartite_util(self, src):\n",
    "        queue = []  \n",
    "        queue.append(src)  \n",
    "        while queue:  \n",
    "            u = queue.pop()  \n",
    "            for v in range(self.V):  \n",
    "                # An edge from u to v exists and  \n",
    "                # destination v is not colored  \n",
    "                if (self.graph[u][v] == 1 and self.color_array[v] == -1):  \n",
    "                    # Assign alternate color to  \n",
    "                    # this adjacent v of u\n",
    "                    self.color_array[v] = 1 - self.color_array[u]  \n",
    "                    queue.append(v)\n",
    "                # An edge from u to v exists and destination  \n",
    "                # v is colored with same color as u  \n",
    "                elif (self.graph[u][v] == 1 and self.color_array[v] == self.color_array[u]):  \n",
    "                    return False\n",
    "        # If we reach here, then all adjacent vertices can be colored with alternate color  \n",
    "        return True\n",
    "          \n",
    "    def is_bipartite(self): \n",
    "        for i in range(self.V): \n",
    "            if self.color_array[i] == -1: \n",
    "                if not self.is_bipartite_util(i): \n",
    "                    return False\n",
    "        return True"
   ]
  },
  {
   "cell_type": "code",
   "execution_count": 2,
   "metadata": {},
   "outputs": [],
   "source": [
    "def is_symmetric(mat): \n",
    "    mat_transposed = mat.transpose()\n",
    "    if mat.tolist() == mat_transposed.tolist():\n",
    "        return True\n",
    "    else:\n",
    "        return False"
   ]
  },
  {
   "cell_type": "code",
   "execution_count": 3,
   "metadata": {},
   "outputs": [],
   "source": [
    "import itertools\n",
    "import numpy as np\n",
    "K = 4\n",
    "N = 4\n",
    "matrices = [np.reshape(np.array(i), (K, N)) for i in itertools.product([0, 1], repeat = K*N)]\n",
    "graphs = []\n",
    "for M in matrices:\n",
    "    if not is_symmetric(M):\n",
    "        continue\n",
    "    elif M[0,0] == 1 or M[1,1] == 1 or M[2,2] == 1 or M[3,3] == 1:\n",
    "        continue\n",
    "    else:\n",
    "        graphs.append(M)"
   ]
  },
  {
   "cell_type": "code",
   "execution_count": 4,
   "metadata": {},
   "outputs": [
    {
     "name": "stdout",
     "output_type": "stream",
     "text": [
      "41\n"
     ]
    }
   ],
   "source": [
    "bipartite = 0\n",
    "for graph in graphs:\n",
    "    g = Graph(4)\n",
    "    g.graph = graph.tolist()\n",
    "    if g.is_bipartite():\n",
    "        bipartite += 1\n",
    "print(bipartite)"
   ]
  },
  {
   "cell_type": "code",
   "execution_count": null,
   "metadata": {},
   "outputs": [],
   "source": []
  }
 ],
 "metadata": {
  "kernelspec": {
   "display_name": "Python 3",
   "language": "python",
   "name": "python3"
  },
  "language_info": {
   "codemirror_mode": {
    "name": "ipython",
    "version": 3
   },
   "file_extension": ".py",
   "mimetype": "text/x-python",
   "name": "python",
   "nbconvert_exporter": "python",
   "pygments_lexer": "ipython3",
   "version": "3.6.9"
  }
 },
 "nbformat": 4,
 "nbformat_minor": 2
}
